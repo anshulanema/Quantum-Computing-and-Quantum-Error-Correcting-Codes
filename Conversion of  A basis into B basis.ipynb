{
 "cells": [
  {
   "cell_type": "code",
   "execution_count": 1,
   "metadata": {},
   "outputs": [
    {
     "name": "stdout",
     "output_type": "stream",
     "text": [
      "Enter number of vectors in A:2\n",
      "Enter the coefficients for A:\n",
      "a\n",
      "b\n",
      "Enter the basis values for each vector:\n",
      "1\n",
      "0\n",
      "0\n",
      "1\n",
      "Enter number of vectors in B:2\n",
      "Enter the coefficients for B:\n",
      "c\n",
      "d\n",
      "Enter the basis values for each vector:\n",
      "0.70710678\n",
      "0.70710678\n",
      "0.70710678\n",
      "-0.70710678\n",
      "A 0  in terms of B is =\n",
      " 0.707106782373095 \n",
      " 0.707106782373095\n",
      "A 1  in terms of B is =\n",
      " 0.707106782373095 \n",
      " -0.707106782373095\n",
      "c = 0.707106782373095 a +0.707106782373095 b\n",
      "\n",
      "d = 0.707106782373095 a +-0.707106782373095 b\n",
      "\n"
     ]
    }
   ],
   "source": [
    "#Conversion of  A basis into B basis\n",
    "import numpy as np\n",
    "ni = int(input(\"Enter number of vectors in A:\"))\n",
    "print(\"Enter the coefficients for A:\")\n",
    "coefold = [(str(input())) for i in range(ni)] \n",
    "alist= []\n",
    "print(\"Enter the basis values for each vector:\")\n",
    "for j in range(ni):\n",
    "    for i in range(ni):\n",
    "        alist.append(float(input()))\n",
    "A = np.array([])\n",
    "A.resize(ni,ni)\n",
    "j=0\n",
    "k=0\n",
    "for i in range(ni):\n",
    "    k=i\n",
    "    for j in range(ni):\n",
    "        A[i][j]= alist[k]\n",
    "        k+=ni\n",
    "no = int(input(\"Enter number of vectors in B:\"))\n",
    "print(\"Enter the coefficients for B:\")\n",
    "coefnew = [(str(input())) for i in range(no)] \n",
    "blist= []\n",
    "print(\"Enter the basis values for each vector:\")\n",
    "for j in range(no):\n",
    "    for i in range(no):\n",
    "        blist.append(float(input()))\n",
    "B = np.array([])\n",
    "B.resize(no,no)\n",
    "j=0\n",
    "k=0\n",
    "for i in range(no):\n",
    "    k=i\n",
    "    for j in range(no):\n",
    "        B[i][j]= blist[k]\n",
    "        k+=no\n",
    "inversematrix = np.linalg.inv(B)\n",
    "coefn=np.matmul(inversematrix,A)\n",
    "for i in range(no):\n",
    "    j=0\n",
    "    print(\"A\",i,\" in terms of B is =\\n\", coefn[i][j],\"\\n\",coefn[i][j+1])\n",
    "for i in range(no):\n",
    "    k=0\n",
    "    print(coefnew[i],\"= \",end=\"\")\n",
    "    for j in range(no):\n",
    "        if k==no-1:\n",
    "            print(coefn[i][j],coefold[k],end=\"\")\n",
    "        else:\n",
    "            print(coefn[i][j],coefold[k],\"+\",end=\"\")\n",
    "            k+=1\n",
    "    print(\"\\n\")"
   ]
  }
 ],
 "metadata": {
  "kernelspec": {
   "display_name": "Python 3",
   "language": "python",
   "name": "python3"
  },
  "language_info": {
   "codemirror_mode": {
    "name": "ipython",
    "version": 3
   },
   "file_extension": ".py",
   "mimetype": "text/x-python",
   "name": "python",
   "nbconvert_exporter": "python",
   "pygments_lexer": "ipython3",
   "version": "3.7.4"
  }
 },
 "nbformat": 4,
 "nbformat_minor": 2
}
