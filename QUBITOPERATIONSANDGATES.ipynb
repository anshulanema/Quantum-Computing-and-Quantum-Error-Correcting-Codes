{
 "cells": [
  {
   "cell_type": "markdown",
   "metadata": {},
   "source": [
    "### DECLARING |0> AND |1>"
   ]
  },
  {
   "cell_type": "code",
   "execution_count": 2,
   "metadata": {},
   "outputs": [
    {
     "name": "stdout",
     "output_type": "stream",
     "text": [
      "\n",
      "q0=\n",
      " [[1]\n",
      " [0]]\n",
      "\n",
      "q1=\n",
      " [[0]\n",
      " [1]]\n"
     ]
    }
   ],
   "source": [
    "import numpy as np\n",
    "q0=np.array([[1],[0]])\n",
    "q1=np.array([[0],[1]])\n",
    "print(\"\\nq0=\\n\",q0 )\n",
    "print(\"\\nq1=\\n\",q1)"
   ]
  },
  {
   "cell_type": "markdown",
   "metadata": {},
   "source": [
    "### DECLARING UNITARY MATRIX AND HERMITIAN MATRIX"
   ]
  },
  {
   "cell_type": "code",
   "execution_count": 4,
   "metadata": {},
   "outputs": [
    {
     "name": "stdout",
     "output_type": "stream",
     "text": [
      "X = \n",
      " [[0 1]\n",
      " [1 0]]\n"
     ]
    }
   ],
   "source": [
    "X = np.array([[0,1],[1, 0]])\n",
    "print(\"X = \\n\",X)"
   ]
  },
  {
   "cell_type": "code",
   "execution_count": 6,
   "metadata": {},
   "outputs": [
    {
     "name": "stdout",
     "output_type": "stream",
     "text": [
      "unitaryMatrix: XX* =\n",
      "  [[1 0]\n",
      " [0 1]]\n",
      "hermitianMatrix: if A* = A i.e,\n",
      "A =\n",
      " [[0 1]\n",
      " [1 0]] \n",
      "and A* =\n",
      " [[0 1]\n",
      " [1 0]] \n",
      "therefore we can conclude A=A*, therefore A is a Hermitian Matrix.\n"
     ]
    }
   ],
   "source": [
    "hermitianMatrix = np.conj(X).transpose()\n",
    "unitaryMatrix = np.matmul(X, hermitianMatrix)\n",
    "print(\"unitaryMatrix: XX* =\\n \",unitaryMatrix)\n",
    "print(\"hermitianMatrix: if A* = A i.e,\\nA =\\n\",X,\"\\nand A* =\\n\",hermitianMatrix,\"\\ntherefore we can conclude A=A*, therefore A is a Hermitian Matrix.\")"
   ]
  },
  {
   "cell_type": "markdown",
   "metadata": {},
   "source": [
    "### INNER PRODUCT, OUTER PRODUCT AND TENSOR PRODUCT "
   ]
  },
  {
   "cell_type": "code",
   "execution_count": 7,
   "metadata": {},
   "outputs": [
    {
     "name": "stdout",
     "output_type": "stream",
     "text": [
      "INNER PRODUCT\n",
      "Inner product of F and V is\n",
      " [4.+4.j]\n"
     ]
    }
   ],
   "source": [
    "print(\"INNER PRODUCT\")\n",
    "F = np.array([2, 1-2j])\n",
    "V = np.array([[1, 2]])\n",
    "print(\"Inner product of F and V is\\n\",np.dot(V,np.conj(F).transpose()))"
   ]
  },
  {
   "cell_type": "code",
   "execution_count": 9,
   "metadata": {},
   "outputs": [
    {
     "name": "stdout",
     "output_type": "stream",
     "text": [
      "Outer Product of F and V is\n",
      " [[2.+0.j 4.+0.j]\n",
      " [1.-2.j 2.-4.j]]\n"
     ]
    }
   ],
   "source": [
    "print(\"Outer Product of F and V is\\n\",np.outer(F,V))"
   ]
  },
  {
   "cell_type": "code",
   "execution_count": 11,
   "metadata": {},
   "outputs": [
    {
     "name": "stdout",
     "output_type": "stream",
     "text": [
      "Tensor Product of \n",
      "V=\n",
      " [[1 2]] \n",
      "and F =\n",
      " [2.+0.j 1.-2.j] \n",
      "is =\n",
      " [[[2.+0.j 1.-2.j]\n",
      "  [4.+0.j 2.-4.j]]]\n"
     ]
    }
   ],
   "source": [
    "print(\"Tensor Product of \\nV=\\n\", V,\"\\nand F =\\n\",F,\"\\nis =\\n\",np.tensordot(V,F,0))"
   ]
  },
  {
   "cell_type": "markdown",
   "metadata": {},
   "source": [
    "### QUANTUM GATES: PAULI-X(NOT), PAULI-Z, HADAMARD, CNOT, TOFFOLI "
   ]
  },
  {
   "cell_type": "code",
   "execution_count": 12,
   "metadata": {},
   "outputs": [
    {
     "name": "stdout",
     "output_type": "stream",
     "text": [
      "PAULI-X Gate output when applied on state 0: \n",
      " [[0]\n",
      " [1]]\n",
      "PAULI-X Gate output when applied on state 1: \n",
      " [[1]\n",
      " [0]]\n"
     ]
    }
   ],
   "source": [
    "print(\"PAULI-X Gate output when applied on state 0: \\n\",np.matmul(X, q0))\n",
    "print(\"PAULI-X Gate output when applied on state 1: \\n\",np.matmul(X, q1))"
   ]
  },
  {
   "cell_type": "code",
   "execution_count": 13,
   "metadata": {},
   "outputs": [
    {
     "name": "stdout",
     "output_type": "stream",
     "text": [
      "PAULI Z-Gate\n",
      "When acted on state 0: \n",
      "|0>:\n",
      " [[1]\n",
      " [0]]\n",
      "When acted on state 1: \n",
      "|1>:\n",
      " [[ 0]\n",
      " [-1]]\n",
      "Z- gate leaves |0 unchanged, and flips the sign of |1 to give −|1\n"
     ]
    }
   ],
   "source": [
    "print(\"PAULI Z-Gate\")\n",
    "Z = np.array([[1,0],[0, -1]])\n",
    "print(\"When acted on state 0: \\n|0>:\\n\",np.matmul(Z,q0))\n",
    "print(\"When acted on state 1: \\n|1>:\\n\",np.matmul(Z,q1))\n",
    "print(\"Z- gate leaves |0 unchanged, and flips the sign of |1 to give −|1\")"
   ]
  },
  {
   "cell_type": "code",
   "execution_count": 16,
   "metadata": {},
   "outputs": [
    {
     "name": "stdout",
     "output_type": "stream",
     "text": [
      "HADAMARD GATE\n",
      "Output of the hadamard gate when applied to |0>:\n",
      " [[0.70710678]\n",
      " [0.70710678]]\n",
      "Output of the hadamard gate when applied to |1>:\n",
      " [[ 0.70710678]\n",
      " [-0.70710678]]\n"
     ]
    }
   ],
   "source": [
    "import math\n",
    "print(\"HADAMARD GATE\")\n",
    "X1 = np.array([[1,0],[0,1]])\n",
    "H = np.dot(1/math.sqrt(2),np.array([[1,1],[1,-1]]))\n",
    "print(\"Output of the hadamard gate when applied to |0>:\\n\",np.matmul(H,q0))\n",
    "print(\"Output of the hadamard gate when applied to |1>:\\n\",np.matmul(H,q1))"
   ]
  },
  {
   "cell_type": "code",
   "execution_count": 19,
   "metadata": {},
   "outputs": [
    {
     "name": "stdout",
     "output_type": "stream",
     "text": [
      "CNOT GATE\n",
      "CNOT |00> =\n",
      " [[1]\n",
      " [0]\n",
      " [0]\n",
      " [0]]\n",
      "CNOT |01> =\n",
      " [[0]\n",
      " [1]\n",
      " [0]\n",
      " [0]]\n",
      "CNOT |10> =\n",
      " [[0]\n",
      " [0]\n",
      " [0]\n",
      " [1]]\n",
      "CNOT |11> =\n",
      " [[0]\n",
      " [0]\n",
      " [1]\n",
      " [0]]\n"
     ]
    }
   ],
   "source": [
    "print(\"CNOT GATE\")\n",
    "q00 = np.tensordot(q0,q0,0)\n",
    "q01 = np.tensordot(q0,q1,0)\n",
    "q10 = np.tensordot(q1,q0,0)\n",
    "q11 = np.tensordot(q1,q1,0)\n",
    "cnot = np.array([[1,0,0,0],[0,1,0,0],[0,0,0,1],[0,0,1,0]])\n",
    "q10 = np.tensordot(q1,q0,0)\n",
    "cnot.resize(4,4)\n",
    "q10.resize(4,1)\n",
    "q11.resize(4,1)\n",
    "q00.resize(4,1)\n",
    "q01.resize(4,1)\n",
    "print(\"CNOT |00> =\\n\", np.matmul(cnot,q00))\n",
    "print(\"CNOT |01> =\\n\",np.matmul(cnot,q01))\n",
    "print(\"CNOT |10> =\\n\",np.matmul(cnot,q10))\n",
    "print(\"CNOT |11> =\\n\",np.matmul(cnot,q11))"
   ]
  },
  {
   "cell_type": "code",
   "execution_count": 20,
   "metadata": {},
   "outputs": [
    {
     "name": "stdout",
     "output_type": "stream",
     "text": [
      "Toffoli | 000 > =\n",
      " [[1]\n",
      " [0]\n",
      " [0]\n",
      " [0]\n",
      " [0]\n",
      " [0]\n",
      " [0]\n",
      " [0]]\n",
      "Toffoli | 001 > =\n",
      " [[0]\n",
      " [1]\n",
      " [0]\n",
      " [0]\n",
      " [0]\n",
      " [0]\n",
      " [0]\n",
      " [0]]\n",
      "Toffoli | 010 > =\n",
      " [[0]\n",
      " [0]\n",
      " [1]\n",
      " [0]\n",
      " [0]\n",
      " [0]\n",
      " [0]\n",
      " [0]]\n",
      "Toffoli | 011 > =\n",
      " [[0]\n",
      " [0]\n",
      " [0]\n",
      " [1]\n",
      " [0]\n",
      " [0]\n",
      " [0]\n",
      " [0]]\n",
      "Toffoli | 100 > =\n",
      " [[0]\n",
      " [0]\n",
      " [0]\n",
      " [0]\n",
      " [1]\n",
      " [0]\n",
      " [0]\n",
      " [0]]\n",
      "Toffoli | 101 > =\n",
      " [[0]\n",
      " [0]\n",
      " [0]\n",
      " [0]\n",
      " [0]\n",
      " [1]\n",
      " [0]\n",
      " [0]]\n",
      "Toffoli | 110 > =\n",
      " [[0]\n",
      " [0]\n",
      " [0]\n",
      " [0]\n",
      " [0]\n",
      " [0]\n",
      " [0]\n",
      " [1]]\n",
      "Toffoli | 111 > =\n",
      " [[0]\n",
      " [0]\n",
      " [0]\n",
      " [0]\n",
      " [0]\n",
      " [0]\n",
      " [1]\n",
      " [0]]\n"
     ]
    }
   ],
   "source": [
    "q000=np.tensordot(q00,q0,0)\n",
    "q001=np.tensordot(q00,q1,0)\n",
    "q010=np.tensordot(q01,q0,0)\n",
    "q011=np.tensordot(q01,q1,0)\n",
    "q100=np.tensordot(q10,q0,0)\n",
    "q101=np.tensordot(q10,q1,0)\n",
    "q110=np.tensordot(q11,q0,0)\n",
    "q111=np.tensordot(q11,q1,0)\n",
    "Toffoli = np.array([\n",
    "            [1,0,0,0,0,0,0,0],\n",
    "            [0,1,0,0,0,0,0,0],\n",
    "            [0,0,1,0,0,0,0,0],\n",
    "            [0,0,0,1,0,0,0,0],\n",
    "            [0,0,0,0,1,0,0,0],\n",
    "            [0,0,0,0,0,1,0,0],\n",
    "            [0,0,0,0,0,0,0,1],\n",
    "            [0,0,0,0,0,0,1,0]])\n",
    "q000.resize(8,1)\n",
    "q001.resize(8,1)\n",
    "q010.resize(8,1)\n",
    "q011.resize(8,1)\n",
    "q100.resize(8,1)\n",
    "q101.resize(8,1)\n",
    "q110.resize(8,1)\n",
    "q111.resize(8,1)\n",
    "a = np.array([q000,q001,q010,q011,q100,q101,q110,q111])\n",
    "av = np.array([\"000\",\"001\",\"010\",\"011\",\"100\",\"101\",\"110\",\"111\"])\n",
    "for i in range(0,8):\n",
    "    print(\"Toffoli |\",av[i],\"> =\\n\",np.matmul(Toffoli,a[i]))"
   ]
  }
 ],
 "metadata": {
  "kernelspec": {
   "display_name": "Python 3",
   "language": "python",
   "name": "python3"
  },
  "language_info": {
   "codemirror_mode": {
    "name": "ipython",
    "version": 3
   },
   "file_extension": ".py",
   "mimetype": "text/x-python",
   "name": "python",
   "nbconvert_exporter": "python",
   "pygments_lexer": "ipython3",
   "version": "3.7.4"
  }
 },
 "nbformat": 4,
 "nbformat_minor": 2
}
