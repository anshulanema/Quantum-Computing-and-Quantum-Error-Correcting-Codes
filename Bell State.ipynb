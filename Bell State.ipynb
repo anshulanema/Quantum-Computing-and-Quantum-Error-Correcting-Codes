{
 "cells": [
  {
   "cell_type": "markdown",
   "metadata": {},
   "source": [
    "# BELL STATE"
   ]
  },
  {
   "cell_type": "code",
   "execution_count": 4,
   "metadata": {},
   "outputs": [
    {
     "name": "stdout",
     "output_type": "stream",
     "text": [
      "BETA 0 0 :\n",
      " [[0.70710678]\n",
      " [0.        ]\n",
      " [0.        ]\n",
      " [0.70710678]]\n",
      "BETA 0 1 :\n",
      " [[0.        ]\n",
      " [0.70710678]\n",
      " [0.70710678]\n",
      " [0.        ]]\n",
      "BETA 1 0 :\n",
      " [[ 0.70710678]\n",
      " [ 0.        ]\n",
      " [ 0.        ]\n",
      " [-0.70710678]]\n",
      "BETA 1 1 :\n",
      " [[ 0.        ]\n",
      " [ 0.70710678]\n",
      " [-0.70710678]\n",
      " [ 0.        ]]\n"
     ]
    }
   ],
   "source": [
    "# BELL STATE\n",
    "import numpy as np\n",
    "import math\n",
    "q0 = np.array([[1],[0]])\n",
    "q1 = np.array([[0],[1]])\n",
    "H = np.dot(1/math.sqrt(2),np.array([[1,1],[1,-1]]))\n",
    "cnot = np.array([[1,0,0,0],[0,1,0,0],[0,0,0,1],[0,0,1,0]])\n",
    "cnot.resize(4,4)\n",
    "singleq = np.array([q0,q1])\n",
    "k=0\n",
    "l=0\n",
    "q = np.array([],dtype=object)\n",
    "q.resize(2,2)\n",
    "for i in singleq:\n",
    "    if k==2:\n",
    "        break\n",
    "    if l==2:\n",
    "        l=0;\n",
    "    for j in singleq:\n",
    "        q[k][l] = np.tensordot(i,j,0)\n",
    "        q[k][l].resize(4,1)\n",
    "        l+=1\n",
    "    k+=1\n",
    "\n",
    "for i in range(0,2):\n",
    "    for j in range(0,2):\n",
    "        if i==0:\n",
    "            if j==0:\n",
    "                k=1\n",
    "            elif j==1:\n",
    "                k=0\n",
    "            out = np.dot(1/math.sqrt(2),(q[i][j] + np.dot(pow(-1,i),q[i+1][k])))\n",
    "            print(\"BETA\",i,j,\":\\n\",out)\n",
    "        elif i==1:\n",
    "            if j==0:\n",
    "                k=1\n",
    "            elif j==1:\n",
    "                k=0\n",
    "            out = np.dot(1/math.sqrt(2),(q[i-1][j] + np.dot(pow(-1,i),q[i][k])))\n",
    "            print(\"BETA\",i,j,\":\\n\",out)\n",
    "        \n",
    "    \n"
   ]
  }
 ],
 "metadata": {
  "kernelspec": {
   "display_name": "Python 3",
   "language": "python",
   "name": "python3"
  },
  "language_info": {
   "codemirror_mode": {
    "name": "ipython",
    "version": 3
   },
   "file_extension": ".py",
   "mimetype": "text/x-python",
   "name": "python",
   "nbconvert_exporter": "python",
   "pygments_lexer": "ipython3",
   "version": "3.7.4"
  }
 },
 "nbformat": 4,
 "nbformat_minor": 2
}
