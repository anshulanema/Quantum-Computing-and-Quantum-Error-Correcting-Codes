{
 "cells": [
  {
   "cell_type": "markdown",
   "metadata": {},
   "source": [
    "### SHOR'S ALGORITHM "
   ]
  },
  {
   "cell_type": "code",
   "execution_count": 1,
   "metadata": {},
   "outputs": [],
   "source": [
    "import qiskit\n",
    "import matplotlib\n",
    "from qiskit import QuantumCircuit, ClassicalRegister, QuantumRegister\n",
    "from  qiskit.tools.visualization  import circuit_drawer\n",
    "from qiskit.extensions.standard import cx, cswap\n",
    "from qiskit import BasicAer\n",
    "import time\n",
    "from qiskit.tools.visualization import plot_histogram\n",
    "import numpy\n",
    "from qiskit import IBMQ\n",
    "IBMQ.enable_account(\"4750540e811a9918fc89afb3cf7899216e15b625a5973b40a2165b596b8c904729cdbeafa09d3924f5f71d60c5338cbc32ad4333a48812b27ca9c945ffa6092c\",\"https://api.quantum-computing.ibm.com/api/Hubs/ibm-q/Groups/open/Projects/main\")\n"
   ]
  },
  {
   "cell_type": "code",
   "execution_count": 2,
   "metadata": {},
   "outputs": [],
   "source": [
    "def controlled_mult_2mod15_quantum(qr,qc,control_qubit):\n",
    "    qc.cswap(control_qubit,qr[0],qr[3])# Swap 0th qubit and 3rd qubit\n",
    "    qc.cswap(control_qubit,qr[1],qr[0])# Swap 0th qubit and 1st qubit\n",
    "    qc.cswap(control_qubit,qr[1],qr[2])# Swap 1st qubit and 2nd qubit"
   ]
  },
  {
   "cell_type": "code",
   "execution_count": 3,
   "metadata": {},
   "outputs": [],
   "source": [
    "import math\n",
    "def shors_subroutine_period_2mod15(qr,qc,cr):\n",
    "    qc.x(qr[0])\n",
    "    qc.h(qr[4])\n",
    "    qc.h(qr[4])\n",
    "    qc.measure(qr[4],cr[0])\n",
    "\n",
    "    qc.h(qr[5])\n",
    "    qc.cx(qr[5],qr[0])\n",
    "    qc.cx(qr[5],qr[2])\n",
    "    if cr[0] == 1:\n",
    "        qc.u1(math.pi/2,qr[4]) #pi/2\n",
    "    qc.h(qr[5])\n",
    "    qc.measure(qr[5],cr[1])\n",
    "\n",
    "    qc.h(qr[6])\n",
    "    controlled_mult_2mod15_quantum(qr,qc,qr[6])\n",
    "    if cr[1] == 1:\n",
    "        qc.u1(math.pi/2,qr[6]) # pi/2 \n",
    "    if cr[0] == 1:\n",
    "        qc.u1(math.pi/4,qr[6]) #pi/4 \n",
    "    qc.h(qr[6])\n",
    "    qc.measure(qr[6],cr[2])\n"
   ]
  },
  {
   "cell_type": "code",
   "execution_count": 4,
   "metadata": {},
   "outputs": [],
   "source": [
    "import math\n",
    "def period_from_quantum_measurement(quantum_measurement, number_qubits, a_shor, N_shor, max_steps=100): \n",
    "    xi=quantum_measurement/2**number_qubits\n",
    "    all_as=[]\n",
    "    all_xis=[]\n",
    "    a_0=math.floor(xi)\n",
    "    xi_0=xi-a_0\n",
    "    all_as+=[a_0]\n",
    "    all_xis+=[xi_0]\n",
    "    all_ps=[]\n",
    "    all_qs=[]\n",
    "    p_0=all_as[0]\n",
    "    q_0=1\n",
    "    all_ps+=[p_0]\n",
    "    all_qs+=[q_0]\n",
    "    xi_n=xi_0\n",
    "    #print(xi_n)\n",
    "    while not numpy.isclose(xi_n,0,atol=1e-7):\n",
    "        if len(all_as)>=max_steps:\n",
    "            print(\"Warning: algorithm did not converge within max_steps %d steps, try increasing max_steps\"%max_steps)\n",
    "            break\n",
    "        # computing a and xi\n",
    "        a_nplus1=math.floor(1/xi_n)\n",
    "        xi_nplus1=1/xi_n-a_nplus1\n",
    "        all_as+=[a_nplus1]\n",
    "        all_xis+=[xi_nplus1]\n",
    "        xi_n=xi_nplus1\n",
    "        n=len(all_as)-1\n",
    "        if n==1:\n",
    "            p_1=all_as[1]*all_as[0]+1\n",
    "            q_1=all_as[1]\n",
    "            all_ps+=[p_1]\n",
    "            all_qs+=[q_1]\n",
    "        else:\n",
    "            p_n=all_as[n]*all_ps[n-1]+all_ps[n-2]\n",
    "            q_n=all_as[n]*all_qs[n-1]+all_qs[n-2]\n",
    "            all_ps+=[p_n]\n",
    "            all_qs+=[q_n]\n",
    "        \n",
    "        if a_shor**all_qs[-1]%N_shor == 1 % N_shor:\n",
    "            return all_qs[-1]\n",
    "\n",
    "#period_from_quantum_measurement(13453,14,3,91)"
   ]
  },
  {
   "cell_type": "code",
   "execution_count": 5,
   "metadata": {},
   "outputs": [],
   "source": [
    "import qiskit\n",
    "from qiskit import QuantumCircuit, ClassicalRegister, QuantumRegister\n",
    "\n",
    "def run_shors_subroutine_period2_mod15():\n",
    "    qr = QuantumRegister(7)\n",
    "    cr = ClassicalRegister(3)\n",
    "    qc = QuantumCircuit(qr,cr)\n",
    "    # run circuit (which includes measurement steps)\n",
    "    shors_subroutine_period_2mod15(qr,qc,cr)\n",
    "    print(qc)\n",
    "    backend=BasicAer.get_backend('qasm_simulator')\n",
    "    job_exp = qiskit.execute(qc, backend=backend,shots=1)\n",
    "    result = job_exp.result()\n",
    "    final=result.get_counts(qc)\n",
    "    print(final)\n",
    "    #print(int(list(final.keys())[0],2))\n",
    "    #convert final result to decimal\n",
    "    measurement=int(list(final.keys())[0],2)\n",
    "    period_r=period_from_quantum_measurement(measurement,3,2,15)\n",
    "    return period_r\n",
    "\n",
    "#print(run_shors_subroutine_period2_mod15())"
   ]
  },
  {
   "cell_type": "code",
   "execution_count": 6,
   "metadata": {},
   "outputs": [
    {
     "name": "stdout",
     "output_type": "stream",
     "text": [
      "         ┌───┐┌───┐                                      \n",
      "q0_0: |0>┤ X ├┤ X ├──────────────X──X────────────────────\n",
      "         └───┘└─┬─┘              │  │                    \n",
      "q0_1: |0>───────┼────────────────┼──X──────────X─────────\n",
      "                │          ┌───┐ │  │          │         \n",
      "q0_2: |0>───────┼──────────┤ X ├─┼──┼──────────X─────────\n",
      "                │          └─┬─┘ │  │          │         \n",
      "q0_3: |0>───────┼────────────┼───X──┼──────────┼─────────\n",
      "         ┌───┐  │  ┌───┐┌─┐  │   │  │          │         \n",
      "q0_4: |0>┤ H ├──┼──┤ H ├┤M├──┼───┼──┼──────────┼─────────\n",
      "         ├───┤  │  └───┘└╥┘  │   │  │ ┌───┐┌─┐ │         \n",
      "q0_5: |0>┤ H ├──■────────╫───■───┼──┼─┤ H ├┤M├─┼─────────\n",
      "         ├───┤           ║       │  │ └───┘└╥┘ │ ┌───┐┌─┐\n",
      "q0_6: |0>┤ H ├───────────╫───────■──■───────╫──■─┤ H ├┤M├\n",
      "         └───┘           ║                  ║    └───┘└╥┘\n",
      " c0_0: 0 ════════════════╩══════════════════╬══════════╬═\n",
      "                                            ║          ║ \n",
      " c0_1: 0 ═══════════════════════════════════╩══════════╬═\n",
      "                                                       ║ \n",
      " c0_2: 0 ══════════════════════════════════════════════╩═\n",
      "                                                         \n",
      "{'110': 1}\n"
     ]
    },
    {
     "data": {
      "text/plain": [
       "(5, 3)"
      ]
     },
     "execution_count": 6,
     "metadata": {},
     "output_type": "execute_result"
    }
   ],
   "source": [
    "def period_finding_quantum(a,N):\n",
    "    if a==2 and N==15:\n",
    "        return run_shors_subroutine_period2_mod15()\n",
    "    else:\n",
    "        raise Exception(\"Not implemented for N=%d, a=%d\" % (N,a))\n",
    "        \n",
    "def shors_algorithm_quantum(N,fixed_a=None):\n",
    "    assert(N>0)\n",
    "    assert(int(N)==N)\n",
    "    while True:\n",
    "        if not fixed_a:\n",
    "            a=random.randint(0,N-1) \n",
    "        else:\n",
    "            a=fixed_a\n",
    "        g=math.gcd(a,N)\n",
    "        if g!=1 or N==1:\n",
    "            first_factor=g\n",
    "            second_factor=int(N/g)\n",
    "            return first_factor,second_factor\n",
    "        else:\n",
    "            r=period_finding_quantum(a,N)  \n",
    "            if not r:\n",
    "                continue\n",
    "            if r % 2 != 0:\n",
    "                continue\n",
    "            elif a**(int(r/2)) % N == -1 % N:\n",
    "                continue\n",
    "            else:\n",
    "                first_factor=math.gcd(a**int(r/2)+1,N)\n",
    "                second_factor=math.gcd(a**int(r/2)-1,N)\n",
    "                if first_factor==N or second_factor==N:\n",
    "                    continue\n",
    "                if first_factor*second_factor!=N:\n",
    "                    continue\n",
    "                return first_factor,second_factor\n",
    "\n",
    "shors_algorithm_quantum(15,fixed_a=2)"
   ]
  }
 ],
 "metadata": {
  "kernelspec": {
   "display_name": "Python 3",
   "language": "python",
   "name": "python3"
  },
  "language_info": {
   "codemirror_mode": {
    "name": "ipython",
    "version": 3
   },
   "file_extension": ".py",
   "mimetype": "text/x-python",
   "name": "python",
   "nbconvert_exporter": "python",
   "pygments_lexer": "ipython3",
   "version": "3.7.4"
  }
 },
 "nbformat": 4,
 "nbformat_minor": 2
}
