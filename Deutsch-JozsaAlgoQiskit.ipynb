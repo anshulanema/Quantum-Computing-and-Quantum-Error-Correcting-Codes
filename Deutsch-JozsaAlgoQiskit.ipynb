{
 "cells": [
  {
   "cell_type": "markdown",
   "metadata": {},
   "source": [
    "## Deutsch-Jozsa Algorithm"
   ]
  },
  {
   "cell_type": "code",
   "execution_count": 8,
   "metadata": {},
   "outputs": [
    {
     "name": "stdout",
     "output_type": "stream",
     "text": [
      "The oracle is balanced.\n",
      "Running on ibmqx2\n"
     ]
    },
    {
     "data": {
      "image/png": "[encoded data removed]",
      "text/plain": [
       "<Figure size 504x360 with 1 Axes>"
      ]
     },
     "execution_count": 8,
     "metadata": {},
     "output_type": "execute_result"
    }
   ],
   "source": [
    "# Deutsch-Jozsa Algorithm\n",
    "import qiskit\n",
    "from qiskit import ClassicalRegister, QuantumRegister, QuantumCircuit\n",
    "from qiskit import IBMQ\n",
    "import numpy as np\n",
    "from configparser import RawConfigParser\n",
    "from qiskit.visualization import *\n",
    "%matplotlib inline\n",
    "\n",
    "type = 'real' \n",
    "\n",
    "def run(program, type, shots = 1024):\n",
    "  if type == 'real':\n",
    "    if not run.isInit:\n",
    "        parser = RawConfigParser()\n",
    "        parser.read('config.ini')\n",
    "        IBMQ.enable_account('4750540e811a9918fc89afb3cf7899216e15b625a5973b40a2165b596b8c904729cdbeafa09d3924f5f71d60c5338cbc32ad4333a48812b27ca9c945ffa6092c','https://api.quantum-computing.ibm.com/api/Hubs/ibm-q/Groups/open/Projects/main')\n",
    "        run.isInit = True\n",
    "\n",
    "    # Set the backend server.\n",
    "    backend = qiskit.providers.ibmq.least_busy(qiskit.IBMQ.backends(simulator=False))\n",
    "\n",
    "    # Execute the program on the quantum machine.\n",
    "    print(\"Running on\", backend.name())\n",
    "    job = qiskit.execute(program, backend)\n",
    "    output = job.result().get_counts()\n",
    "    return output\n",
    "  else:\n",
    "    # Execute the program in the simulator.\n",
    "    print(\"Running on the simulator.\")\n",
    "    job = qiskit.execute(program, qiskit.BasicAer.get_backend('qasm_simulator'), shots=shots)\n",
    "    return job.result().get_counts()\n",
    "\n",
    "run.isInit = False\n",
    "\n",
    "# Set the length of the input array to check.\n",
    "n = 2\n",
    "\n",
    "# Choose a random type and value for the oracle function.\n",
    "oracleType = 1 #np.random.randint(2)\n",
    "oracleValue = np.random.randint(2)\n",
    "\n",
    "if oracleType == 0:\n",
    "    print(\"The oracle is constant.\") \n",
    "else:\n",
    "       print(\"The oracle is balanced.\")\n",
    "\n",
    "# Create n + 1 qubits for the input array, all initialized to zero, with an extra qubit for storing the answer.\n",
    "qr = QuantumRegister(n + 1)\n",
    "# Create n registers for the output.\n",
    "cr = ClassicalRegister(n)\n",
    "program = QuantumCircuit(qr, cr)\n",
    "\n",
    "# Put all input qubits into superposition.\n",
    "for i in range(n):\n",
    "  program.h(qr[i])\n",
    "\n",
    "# Invert the last qubit (which stores the answer) and place it into superposition.\n",
    "program.x(qr[n])\n",
    "program.h(qr[n])\n",
    "\n",
    "program.barrier()\n",
    "\n",
    "if oracleType == 0:\n",
    "  # This oracle is constant and returns oracleValue for all inputs.\n",
    "  if oracleValue == 1:\n",
    "    # Invert the answer qubit.\n",
    "    program.x(qr[n])\n",
    "  else:\n",
    "    # Keep the answer qubit as-is.\n",
    "    program.iden(qr[n])\n",
    "else:\n",
    "  # The oracle is balanced and returns equal counts of 0 and 1.\n",
    "  for i in range(n):\n",
    "    # Set the qubit to return the inner product of the input with a non-zero bitstring.\n",
    "    if (n & (1 << i)):\n",
    "      # Apply a controlled-not between the input qubit and the answer qubit.\n",
    "      program.cx(qr[i], qr[n])\n",
    "\n",
    "\n",
    "program.barrier()\n",
    "\n",
    "# Undo the superposition for all input qubits.\n",
    "for i in range(n):\n",
    "  program.h(qr[i])\n",
    "\n",
    "# Measure the result of each input qubit.\n",
    "program.barrier()\n",
    "for i in range(n):\n",
    "  program.measure(qr[i], cr[i])\n",
    "\n",
    "\n",
    "out = run(program, type)\n",
    "plot_histogram(out)\n"
   ]
  },
  {
   "cell_type": "code",
   "execution_count": 9,
   "metadata": {},
   "outputs": [
    {
     "data": {
      "text/html": [
       "<pre style=\"word-wrap: normal;white-space: pre;line-height: 15px;\">         ┌───┐      ░       ░ ┌───┐ ░ ┌─┐   \n",
       "q4_0: |0>┤ H ├──────░───────░─┤ H ├─░─┤M├───\n",
       "         ├───┤      ░       ░ ├───┤ ░ └╥┘┌─┐\n",
       "q4_1: |0>┤ H ├──────░───■───░─┤ H ├─░──╫─┤M├\n",
       "         ├───┤┌───┐ ░ ┌─┴─┐ ░ └───┘ ░  ║ └╥┘\n",
       "q4_2: |0>┤ X ├┤ H ├─░─┤ X ├─░───────░──╫──╫─\n",
       "         └───┘└───┘ ░ └───┘ ░       ░  ║  ║ \n",
       " c4_0: 0 ══════════════════════════════╩══╬═\n",
       "                                          ║ \n",
       " c4_1: 0 ═════════════════════════════════╩═\n",
       "                                            </pre>"
      ],
      "text/plain": [
       "<qiskit.visualization.text.TextDrawing at 0x14473ad0>"
      ]
     },
     "execution_count": 9,
     "metadata": {},
     "output_type": "execute_result"
    }
   ],
   "source": [
    "program.draw()"
   ]
  }
 ],
 "metadata": {
  "kernelspec": {
   "display_name": "Python 3",
   "language": "python",
   "name": "python3"
  },
  "language_info": {
   "codemirror_mode": {
    "name": "ipython",
    "version": 3
   },
   "file_extension": ".py",
   "mimetype": "text/x-python",
   "name": "python",
   "nbconvert_exporter": "python",
   "pygments_lexer": "ipython3",
   "version": "3.7.4"
  }
 },
 "nbformat": 4,
 "nbformat_minor": 2
}
